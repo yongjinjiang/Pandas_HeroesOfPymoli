{
 "cells": [
  {
   "cell_type": "code",
   "execution_count": 1,
   "metadata": {
    "collapsed": true
   },
   "outputs": [],
   "source": [
    "# Dependencies and Setup\n",
    "import pandas as pd\n",
    "import numpy as np\n",
    "import sys\n",
    "from functools import reduce\n",
    "from collections import OrderedDict, Counter"
   ]
  },
  {
   "cell_type": "code",
   "execution_count": 2,
   "metadata": {
    "collapsed": true
   },
   "outputs": [],
   "source": [
    "# Raw data file\n",
    "file_to_load = \"Resources/purchase_data.csv\""
   ]
  },
  {
   "cell_type": "code",
   "execution_count": 3,
   "metadata": {},
   "outputs": [
    {
     "data": {
      "text/html": [
       "<div>\n",
       "<style>\n",
       "    .dataframe thead tr:only-child th {\n",
       "        text-align: right;\n",
       "    }\n",
       "\n",
       "    .dataframe thead th {\n",
       "        text-align: left;\n",
       "    }\n",
       "\n",
       "    .dataframe tbody tr th {\n",
       "        vertical-align: top;\n",
       "    }\n",
       "</style>\n",
       "<table border=\"1\" class=\"dataframe\">\n",
       "  <thead>\n",
       "    <tr style=\"text-align: right;\">\n",
       "      <th></th>\n",
       "      <th>Purchase ID</th>\n",
       "      <th>SN</th>\n",
       "      <th>Age</th>\n",
       "      <th>Gender</th>\n",
       "      <th>Item ID</th>\n",
       "      <th>Item Name</th>\n",
       "      <th>Price</th>\n",
       "    </tr>\n",
       "  </thead>\n",
       "  <tbody>\n",
       "    <tr>\n",
       "      <th>0</th>\n",
       "      <td>0</td>\n",
       "      <td>Lisim78</td>\n",
       "      <td>20</td>\n",
       "      <td>Male</td>\n",
       "      <td>108</td>\n",
       "      <td>Extraction, Quickblade Of Trembling Hands</td>\n",
       "      <td>3.53</td>\n",
       "    </tr>\n",
       "    <tr>\n",
       "      <th>1</th>\n",
       "      <td>1</td>\n",
       "      <td>Lisovynya38</td>\n",
       "      <td>40</td>\n",
       "      <td>Male</td>\n",
       "      <td>143</td>\n",
       "      <td>Frenzied Scimitar</td>\n",
       "      <td>1.56</td>\n",
       "    </tr>\n",
       "    <tr>\n",
       "      <th>2</th>\n",
       "      <td>2</td>\n",
       "      <td>Ithergue48</td>\n",
       "      <td>24</td>\n",
       "      <td>Male</td>\n",
       "      <td>92</td>\n",
       "      <td>Final Critic</td>\n",
       "      <td>4.88</td>\n",
       "    </tr>\n",
       "    <tr>\n",
       "      <th>3</th>\n",
       "      <td>3</td>\n",
       "      <td>Chamassasya86</td>\n",
       "      <td>24</td>\n",
       "      <td>Male</td>\n",
       "      <td>100</td>\n",
       "      <td>Blindscythe</td>\n",
       "      <td>3.27</td>\n",
       "    </tr>\n",
       "    <tr>\n",
       "      <th>4</th>\n",
       "      <td>4</td>\n",
       "      <td>Iskosia90</td>\n",
       "      <td>23</td>\n",
       "      <td>Male</td>\n",
       "      <td>131</td>\n",
       "      <td>Fury</td>\n",
       "      <td>1.44</td>\n",
       "    </tr>\n",
       "  </tbody>\n",
       "</table>\n",
       "</div>"
      ],
      "text/plain": [
       "   Purchase ID             SN  Age Gender  Item ID  \\\n",
       "0            0        Lisim78   20   Male      108   \n",
       "1            1    Lisovynya38   40   Male      143   \n",
       "2            2     Ithergue48   24   Male       92   \n",
       "3            3  Chamassasya86   24   Male      100   \n",
       "4            4      Iskosia90   23   Male      131   \n",
       "\n",
       "                                   Item Name  Price  \n",
       "0  Extraction, Quickblade Of Trembling Hands   3.53  \n",
       "1                          Frenzied Scimitar   1.56  \n",
       "2                               Final Critic   4.88  \n",
       "3                                Blindscythe   3.27  \n",
       "4                                       Fury   1.44  "
      ]
     },
     "execution_count": 3,
     "metadata": {},
     "output_type": "execute_result"
    }
   ],
   "source": [
    "# Read purchasing file and store into pandas data frame\n",
    "purchase_data = pd.read_csv(file_to_load)\n",
    "purchase_data=pd.DataFrame(purchase_data)\n",
    "purchase_data.head()"
   ]
  },
  {
   "cell_type": "code",
   "execution_count": 4,
   "metadata": {},
   "outputs": [
    {
     "name": "stdout",
     "output_type": "stream",
     "text": [
      "### Total Number of Players:\n",
      "   Total Players\n",
      "T            576\n"
     ]
    }
   ],
   "source": [
    "### Total Number of Players:\n",
    "print(\"### Total Number of Players:\")\n",
    "total_players=pd.DataFrame({\"Total Players\":purchase_data['SN'].unique().shape[0]},index=[\"T\"])\n",
    "print(total_players)"
   ]
  },
  {
   "cell_type": "code",
   "execution_count": 5,
   "metadata": {},
   "outputs": [
    {
     "name": "stdout",
     "output_type": "stream",
     "text": [
      "### Purchasing Analysis (Total):\n",
      "   Average Price  Number of Purchases  Number of Unique Items  Total Revenue\n",
      "T           3.05                  780                     183        2379.77\n"
     ]
    }
   ],
   "source": [
    "### Purchasing Analysis (Total):\n",
    "print(\"### Purchasing Analysis (Total):\")\n",
    "column_names=[\"Number of Unique Items\",\"Average Price\",\"Number of Purchases\",\"Total Revenue\"]\n",
    "values=[purchase_data[\"Item ID\"].unique().shape[0],\\\n",
    "         purchase_data[\"Price\"].mean(),\\\n",
    "                purchase_data.shape[0],\\\n",
    "                   purchase_data[\"Price\"].sum()   \\\n",
    "                      ]\n",
    "aa=[{column_names[i]:values[i] for i in range(4)} ]\n",
    "#print(aa)\n",
    "Purchasing_Analysis_Total=pd.DataFrame(aa)\n",
    "Purchasing_Analysis_Total.rename(index={0:\"T\"},inplace=True)\n",
    "pd.set_option('precision',2)\n",
    "print(Purchasing_Analysis_Total)"
   ]
  },
  {
   "cell_type": "code",
   "execution_count": 6,
   "metadata": {},
   "outputs": [
    {
     "name": "stdout",
     "output_type": "stream",
     "text": [
      "###Gender Demographics:\n",
      "                       count percentage\n",
      "Gender                                 \n",
      "Female                    81     14.06%\n",
      "Male                     484     84.03%\n",
      "Other / Non-Disclosed     11      1.91%\n"
     ]
    }
   ],
   "source": [
    "###Gender Demographics:\n",
    "print(\"###Gender Demographics:\")\n",
    "Gender_data=purchase_data[['SN','Age','Gender']].drop_duplicates() # value_counts()\n",
    "tot=Gender_data.shape[0]\n",
    "Gender_data1=Gender_data.groupby(\"Gender\").count()\n",
    "Gender_data1.rename(columns={\"SN\":\"count\",\"Age\":\"percentage\"},inplace=True)\n",
    "Gender_data1[\"percentage\"]=Gender_data1[\"count\"]/tot\n",
    "Gender_data1[\"percentage\"] = pd.Series([\"{0:.2f}%\".format(val * 100) for val in Gender_data1[\"percentage\"]], index = Gender_data1[\"percentage\"].index)\n",
    "print(Gender_data1)"
   ]
  },
  {
   "cell_type": "code",
   "execution_count": 7,
   "metadata": {},
   "outputs": [
    {
     "name": "stdout",
     "output_type": "stream",
     "text": [
      "###Purchasing Analysis (Gender): ('Average Purchase Total per Person by Gender' is abreviated as 'APTpP_Gender')\n",
      "                       PurchaseCount  AveragePrice  TotalValue  APTpP_Gender\n",
      "Gender                                                                      \n",
      "Female                           113          3.20      361.94          4.47\n",
      "Male                             652          3.02     1967.64          4.07\n",
      "Other / Non-Disclosed             15          3.35       50.19          4.56\n"
     ]
    }
   ],
   "source": [
    "###Purchasing Analysis (Gender):\n",
    "print(\"###Purchasing Analysis (Gender): ('Average Purchase Total per Person by Gender' is abreviated as 'APTpP_Gender')\")\n",
    "Purchase_Gender=purchase_data.groupby(['Gender'])\n",
    "Gender_groups_count=purchase_data.groupby(['Gender','SN']).size().groupby('Gender').count()\n",
    "column_names=[\"PurchaseCount\",\"AveragePrice\",\"TotalValue\",\"APTpP_Gender\"]\n",
    "values=[Purchase_Gender[\"Purchase ID\"].count(),\\\n",
    "         Purchase_Gender[\"Price\"].mean(),\\\n",
    "                Purchase_Gender[\"Price\"].sum(),\\\n",
    "                   Purchase_Gender[\"Price\"].sum()/Gender_groups_count ]\n",
    "#values=Series.to_frame\n",
    "values=[value.to_frame() for value in values]\n",
    "#pd.concat combine list of data_frames to a bigger DataFrame: \n",
    "# https://stackoverflow.com/questions/44327999/python-pandas-merge-multiple-dataframes\n",
    "df_merged_gender = reduce(lambda  left,right: pd.merge(left,right,left_index=True,right_index=True), values)\n",
    "df_merged_gender.columns=column_names\n",
    "print(df_merged_gender) "
   ]
  },
  {
   "cell_type": "code",
   "execution_count": 8,
   "metadata": {},
   "outputs": [
    {
     "name": "stdout",
     "output_type": "stream",
     "text": [
      "###Age Demographics:('Average Purchase Total per Person by Age Group' is abbreviated as 'APTpP_Age')\n",
      "           PurchaseCount  AveragePrice  TotalValue  APTpP_Age\n",
      "Age group                                                    \n",
      "<10                   23          3.35       77.13       4.54\n",
      "10-14                 28          2.96       82.78       3.76\n",
      "15-19                136          3.04      412.89       3.86\n",
      "20-24                365          3.05     1114.06       4.32\n",
      "25-29                101          2.90      293.00       3.81\n",
      "30-34                 73          2.93      214.00       4.12\n",
      "35-39                 41          3.60      147.67       4.76\n",
      "40+                   13          2.94       38.24       3.19\n"
     ]
    }
   ],
   "source": [
    "###Age Demographics\n",
    "print(\"###Age Demographics:('Average Purchase Total per Person by Age Group' is abbreviated as 'APTpP_Age')\")\n",
    "#age_bins=[0,10.1,15.1,20,100]\n",
    "#group_names=[\"<10\",\"10-14\",\"15-19\",\">19(adults)\"]\n",
    "age_bins = [0, 9.98, 14.95, 19.90, 24.90, 29.90, 34.90, 39.90, 99999]\n",
    "group_names = [\"<10\", \"10-14\", \"15-19\", \"20-24\", \"25-29\", \"30-34\", \"35-39\", \"40+\"]\n",
    "purchase_data[\"Age group\"]=pd.cut(purchase_data[\"Age\"],age_bins,labels=group_names)\n",
    "purchase_age=purchase_data.groupby([\"Age group\"])\n",
    "age_groups_count=purchase_data.groupby([\"Age group\",\"SN\"]).size().groupby(\"Age group\").count()\n",
    "\n",
    "del values\n",
    "values=[purchase_age[\"Purchase ID\"].count(),\\\n",
    "         purchase_age[\"Price\"].mean(),\\\n",
    "                purchase_age[\"Price\"].sum(),\\\n",
    "                   purchase_age[\"Price\"].sum()/age_groups_count ]\n",
    "values=[value.to_frame() for value in values]\n",
    "df_merged_age = reduce(lambda  left,right: pd.merge(left,right,left_index=True,right_index=True), values)\n",
    "df_merged_age.columns=column_names\n",
    "df_merged_age.rename(columns={\"APTpP_Gender\":\"APTpP_Age\"},inplace=True)\n",
    "#df_merged[\"APTpP_Age\"]=purchase_age[\"Price\"].sum()/age_groups_count\n",
    "print(df_merged_age)"
   ]
  },
  {
   "cell_type": "code",
   "execution_count": 9,
   "metadata": {},
   "outputs": [
    {
     "name": "stdout",
     "output_type": "stream",
     "text": [
      "###Top Spenders:\n",
      "             Average Purchase Price  Purchase Count  Total Purchase Value\n",
      "SN                                                                       \n",
      "Lisosia93                      3.79               5                 18.96\n",
      "Idastidru52                    3.86               4                 15.45\n",
      "Chamjask73                     4.61               3                 13.83\n",
      "Iral74                         3.40               4                 13.62\n",
      "Iskadarya95                    4.37               3                 13.10\n"
     ]
    }
   ],
   "source": [
    "###Top Spenders\n",
    "print(\"###Top Spenders:\")\n",
    "Purchase_spender=purchase_data.groupby(\"SN\")\n",
    "Top_spenders=Purchase_spender[\"Price\"].sum().sort_values(ascending=False)[0:5]\n",
    "\n",
    "del values\n",
    "values=[]\n",
    "for i in range(5):\n",
    "    #https://stackoverflow.com/questions/22691010/how-to-print-a-groupby-object\n",
    "   ss=Purchase_spender.get_group(Top_spenders.index[i])[\"Price\"]\n",
    "   values.append({\"Purchase Count\":ss.count(),\"Average Purchase Price\":ss.mean(),\"Total Purchase Value\":ss.sum()})\n",
    "\n",
    "df_merged_Top_Spenders=pd.DataFrame(values,index=Top_spenders.index)\n",
    "\n",
    "print(df_merged_Top_Spenders)\n"
   ]
  },
  {
   "cell_type": "code",
   "execution_count": 10,
   "metadata": {},
   "outputs": [
    {
     "name": "stdout",
     "output_type": "stream",
     "text": [
      "###Most Popular Items:\n",
      "                                            Item Name  Purchase Count  \\\n",
      "Item ID                                                                 \n",
      "178      Oathbreaker, Last Hope of the Breaking Storm              12   \n",
      "82                                            Nirvana               9   \n",
      "108         Extraction, Quickblade Of Trembling Hands               9   \n",
      "145                              Fiery Glass Crusader               9   \n",
      "92                                       Final Critic               8   \n",
      "\n",
      "         item Price  TotalPurchaseValue  \n",
      "Item ID                                  \n",
      "178            4.23               50.76  \n",
      "82             4.90               44.10  \n",
      "108            3.53               31.77  \n",
      "145            4.58               41.22  \n",
      "92             4.88               39.04  \n"
     ]
    }
   ],
   "source": [
    "###Most Popular Items\n",
    "print(\"###Most Popular Items:\")\n",
    "Purchase_item=purchase_data.groupby(\"Item ID\")\n",
    "Top_items=Purchase_item[\"Purchase ID\"].count().sort_values(ascending=False)[0:5]\n",
    "del values\n",
    "values=[]\n",
    "for i in range(5):\n",
    "    #https://stackoverflow.com/questions/22691010/how-to-print-a-groupby-object\n",
    "   ss=Purchase_item.get_group(Top_items.index[i])[\"Price\"]\n",
    "   ss0=Purchase_item.get_group(Top_items.index[i])[\"Item Name\"]\n",
    "   ##align the dictionary and produece ordered DataFrame\n",
    "   #https://stackoverflow.com/questions/44365209/generate-a-pandas-dataframe-from-ordereddict?rq=1\n",
    "   values.append(OrderedDict({\"Item Name\":ss0.values[0],\"Purchase Count\":ss.count(),\"item Price\":ss.values[0],\"TotalPurchaseValue\":ss.sum()}))   \n",
    "\n",
    "col = Counter()\n",
    "for k in values:\n",
    "    col.update(k)\n",
    "df_merged_Top_Items=pd.DataFrame(values,index=Top_items.index,columns=col.keys())\n",
    "print(df_merged_Top_Items)"
   ]
  },
  {
   "cell_type": "code",
   "execution_count": 11,
   "metadata": {},
   "outputs": [
    {
     "name": "stdout",
     "output_type": "stream",
     "text": [
      "###Most Profitable Items\n",
      "                                            Item Name  Purchase Count  \\\n",
      "Item ID                                                                 \n",
      "178      Oathbreaker, Last Hope of the Breaking Storm              12   \n",
      "82                                            Nirvana               9   \n",
      "145                              Fiery Glass Crusader               9   \n",
      "92                                       Final Critic               8   \n",
      "103                                    Singed Scalpel               8   \n",
      "\n",
      "         item Price  TotalPurchaseValue  \n",
      "Item ID                                  \n",
      "178            4.23               50.76  \n",
      "82             4.90               44.10  \n",
      "145            4.58               41.22  \n",
      "92             4.88               39.04  \n",
      "103            4.35               34.80  \n"
     ]
    }
   ],
   "source": [
    "###Most Profitable Items\n",
    "print(\"###Most Profitable Items\")\n",
    "Purchase_item=purchase_data.groupby(\"Item ID\")\n",
    "Top_items=Purchase_item[\"Price\"].sum().sort_values(ascending=False)[0:5]\n",
    "del values\n",
    "values=[]\n",
    "for i in range(5):\n",
    "    #https://stackoverflow.com/questions/22691010/how-to-print-a-groupby-object\n",
    "   ss=Purchase_item.get_group(Top_items.index[i])[\"Price\"]\n",
    "   ss0=Purchase_item.get_group(Top_items.index[i])[\"Item Name\"]\n",
    "   ##align the dictionary and produece ordered DataFrame\n",
    "   #https://stackoverflow.com/questions/44365209/generate-a-pandas-dataframe-from-ordereddict?rq=1\n",
    "   values.append(OrderedDict({\"Item Name\":ss0.values[0],\"Purchase Count\":ss.count(),\"item Price\":ss.values[0],\"TotalPurchaseValue\":ss.sum()}))   \n",
    "col = Counter()\n",
    "for k in values:\n",
    "    col.update(k)\n",
    "df_merged_Top_Items=pd.DataFrame(values,index=Top_items.index,columns=col.keys())\n",
    "print(df_merged_Top_Items)"
   ]
  },
  {
   "cell_type": "code",
   "execution_count": null,
   "metadata": {
    "collapsed": true
   },
   "outputs": [],
   "source": []
  },
  {
   "cell_type": "code",
   "execution_count": null,
   "metadata": {
    "collapsed": true
   },
   "outputs": [],
   "source": []
  }
 ],
 "metadata": {
  "kernelspec": {
   "display_name": "Python 3",
   "language": "python",
   "name": "python3"
  },
  "language_info": {
   "codemirror_mode": {
    "name": "ipython",
    "version": 3
   },
   "file_extension": ".py",
   "mimetype": "text/x-python",
   "name": "python",
   "nbconvert_exporter": "python",
   "pygments_lexer": "ipython3",
   "version": "3.6.2"
  }
 },
 "nbformat": 4,
 "nbformat_minor": 2
}
